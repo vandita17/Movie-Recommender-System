{
 "cells": [
  {
   "cell_type": "code",
   "execution_count": null,
   "id": "c15e7d0e-5172-48d6-a451-dff954751f9a",
   "metadata": {},
   "outputs": [],
   "source": [
    "import numpy as np\n",
    "import pandas as pd\n",
    "\n",
    "import os\n",
    "for dirname, _, filenames in os.walk('/kaggle/input'):\n",
    "    for filename in filenames:\n",
    "        print(os.path.join(dirname, filename))\n",
    "\n"
   ]
  },
  {
   "cell_type": "raw",
   "id": "9b0ad63a-7429-4c95-a037-8853e67f91cd",
   "metadata": {},
   "source": [
    "movies = pd.read_csv('tmdb_5000_movies.csv')\n",
    "credits = pd.read_csv('tmdb_5000_credits.csv')"
   ]
  },
  {
   "cell_type": "raw",
   "id": "79f4a04c-2f07-4458-96a0-cd665a7afde6",
   "metadata": {},
   "source": [
    "movies.head(1)"
   ]
  },
  {
   "cell_type": "raw",
   "id": "f3dd4a5c-930d-4a13-ba00-598830b1133d",
   "metadata": {},
   "source": [
    "movies.shape"
   ]
  },
  {
   "cell_type": "raw",
   "id": "9352f4e4-b49c-40d5-8588-da6da6cf6ae3",
   "metadata": {},
   "source": [
    "credits.head(1)"
   ]
  },
  {
   "cell_type": "raw",
   "id": "500d2b4e-86bb-4f2f-9f7b-ede438318c7e",
   "metadata": {},
   "source": [
    " movies = movies.merge(credits,on='title')"
   ]
  },
  {
   "cell_type": "raw",
   "id": "c8cbcbd9-7f78-439b-b8fd-5fb643411798",
   "metadata": {},
   "source": [
    "movies = movies[['movie_id','title','overview','genres','keywords','cast','crew']]"
   ]
  },
  {
   "cell_type": "raw",
   "id": "b085ef21-d86d-4850-bdf1-691b715a0d4c",
   "metadata": {},
   "source": [
    "movies.head()"
   ]
  },
  {
   "cell_type": "raw",
   "id": "76de00b3-8387-47d7-8cce-574448349f2b",
   "metadata": {},
   "source": [
    "import ast"
   ]
  },
  {
   "cell_type": "raw",
   "id": "f94c77ef-3a7e-4bae-a01e-a08283d9494f",
   "metadata": {},
   "source": [
    "def convert(text):\n",
    "    L = []\n",
    "    for i in ast.literal_eval(text):\n",
    "        L.append(i['name']) \n",
    "    return L "
   ]
  },
  {
   "cell_type": "raw",
   "id": "1263f658-f38f-440f-b76d-cf6774145432",
   "metadata": {},
   "source": [
    "movies.dropna(inplace=True)"
   ]
  },
  {
   "cell_type": "raw",
   "id": "5d729e2d-ad5f-415a-99ea-58c9bad15c23",
   "metadata": {},
   "source": [
    "movies['genres'] = movies['genres'].apply(convert)\n",
    "movies.head()"
   ]
  },
  {
   "cell_type": "raw",
   "id": "4b37785c-cf8a-4fea-a043-d842317e0922",
   "metadata": {},
   "source": [
    "movies['keywords'] = movies['keywords'].apply(convert)\n",
    "movies.head()\n"
   ]
  },
  {
   "cell_type": "raw",
   "id": "0d9613ee-ffc3-453b-a848-3e73d448abd5",
   "metadata": {},
   "source": [
    "import ast\n",
    "ast.literal_eval('[{\"id\": 28, \"name\": \"Action\"}, {\"id\": 12, \"name\": \"Adventure\"}, {\"id\": 14, \"name\": \"Fantasy\"}, {\"id\": 878, \"name\": \"Science Fiction\"}]')"
   ]
  },
  {
   "cell_type": "raw",
   "id": "1152c617-b5c9-4950-81c7-4cfb3e8476c1",
   "metadata": {},
   "source": [
    "def convert3(text):\n",
    "    L = []\n",
    "    counter = 0\n",
    "    for i in ast.literal_eval(text):\n",
    "        if counter < 3:\n",
    "            L.append(i['name'])\n",
    "        counter+=1\n",
    "    return L "
   ]
  },
  {
   "cell_type": "raw",
   "id": "c91f0023-deac-4eaa-9d88-b7e07cb484b3",
   "metadata": {},
   "source": [
    "movies['cast'] = movies['cast'].apply(convert)\n",
    "movies.head()"
   ]
  },
  {
   "cell_type": "raw",
   "id": "144481df-624f-47a3-bb7c-85c45fba37d0",
   "metadata": {},
   "source": [
    "movies['cast'] = movies['cast'].apply(lambda x:x[0:3])"
   ]
  },
  {
   "cell_type": "raw",
   "id": "36890bf8-48e0-4c35-8c70-2db844aee08b",
   "metadata": {},
   "source": [
    "def fetch_director(text):\n",
    "    L = []\n",
    "    for i in ast.literal_eval(text):\n",
    "        if i['job'] == 'Director':\n",
    "            L.append(i['name'])\n",
    "    return L "
   ]
  },
  {
   "cell_type": "raw",
   "id": "b7e31959-07eb-4c8e-b688-f4e93dfe407f",
   "metadata": {},
   "source": [
    "movies['crew'] = movies['crew'].apply(fetch_director)"
   ]
  },
  {
   "cell_type": "raw",
   "id": "6566bca1-a849-4366-b1bf-093df00a3911",
   "metadata": {},
   "source": [
    "movies.sample(5)"
   ]
  },
  {
   "cell_type": "raw",
   "id": "2a710a64-7f9b-4795-aa97-c968770bebf6",
   "metadata": {},
   "source": [
    "de collapse(L):\n",
    "    L1 = []\n",
    "    for i in L:\n",
    "        L1.append(i.replace(\" \",\"\"))\n",
    "    return L1f"
   ]
  },
  {
   "cell_type": "raw",
   "id": "1d297a8e-6680-4e5c-9fce-5de57ad5a499",
   "metadata": {},
   "source": [
    "movies['cast'] = movies['cast'].apply(collapse)\n",
    "movies['crew'] = movies['crew'].apply(collapse)\n",
    "movies['genres'] = movies['genres'].apply(collapse)\n",
    "movies['keywords'] = movies['keywords'].apply(collapse)"
   ]
  },
  {
   "cell_type": "raw",
   "id": "0393821f-e54a-43ef-af40-26e207d327bc",
   "metadata": {},
   "source": [
    "movies.head()"
   ]
  },
  {
   "cell_type": "raw",
   "id": "24ced5ae-2335-4449-8dcd-3a8f2537e993",
   "metadata": {},
   "source": [
    "movies['overview'] = movies['overview'].apply(lambda x:x.split())"
   ]
  },
  {
   "cell_type": "raw",
   "id": "e8c1dbd1-8563-4b93-9fe6-a12fa0631ef7",
   "metadata": {},
   "source": [
    "movies['tags'] = movies['overview'] + movies['genres'] + movies['keywords'] + movies['cast'] + movies['crew']"
   ]
  },
  {
   "cell_type": "raw",
   "id": "f53982a8-89e1-410e-bb74-993048bad38c",
   "metadata": {},
   "source": [
    "new = movies.drop(columns=['overview','genres','keywords','cast','crew'])"
   ]
  },
  {
   "cell_type": "raw",
   "id": "319fe072-fd74-44ca-a841-ee13bb41eaab",
   "metadata": {},
   "source": [
    "new['tags'] = new['tags'].apply(lambda x: \" \".join(x))\n",
    "new.head()"
   ]
  },
  {
   "cell_type": "raw",
   "id": "575234b7-c612-4c1c-af14-edf0a15b6fb2",
   "metadata": {},
   "source": [
    "from sklearn.feature_extraction.text import CountVectorizer\n",
    "cv = CountVectorizer(max_features=5000,stop_words='english')\n",
    "    "
   ]
  },
  {
   "cell_type": "raw",
   "id": "cdbcfadb-3cf9-4795-bebe-f84fc4ac87ce",
   "metadata": {},
   "source": [
    "vector = cv.fit_transform(new['tags']).toarray()"
   ]
  },
  {
   "cell_type": "raw",
   "id": "dbdeba67-b697-4017-8887-f5a332c6472b",
   "metadata": {},
   "source": [
    "vector.shape"
   ]
  },
  {
   "cell_type": "raw",
   "id": "b58a3fa8-a9a0-41f7-bbc9-19d3390bb679",
   "metadata": {},
   "source": [
    "from sklearn.metrics.pairwise import cosine_similarity"
   ]
  },
  {
   "cell_type": "raw",
   "id": "d15690be-2868-417c-b38b-6862f2362b0f",
   "metadata": {},
   "source": [
    "similarity = cosine_similarity(vector)"
   ]
  },
  {
   "cell_type": "raw",
   "id": "9551fbd3-e8a6-4bbf-ad43-c62bd33e7a4d",
   "metadata": {},
   "source": [
    "similarity"
   ]
  },
  {
   "cell_type": "raw",
   "id": "1bb59edf-37ef-4512-a20a-24b941a34621",
   "metadata": {},
   "source": [
    "new[new['title'] == 'The Lego Movie'].index[0]"
   ]
  },
  {
   "cell_type": "raw",
   "id": "2f296b76-2020-4e07-9f33-5abe732671e0",
   "metadata": {},
   "source": [
    "def recommend(movie):\n",
    "    index = new[new['title'] == movie].index[0]\n",
    "    distances = sorted(list(enumerate(similarity[index])),reverse=True,key = lambda x: x[1])\n",
    "    for i in distances[1:6]:\n",
    "        print(new.iloc[i[0]].title)\n",
    "        \n",
    "    recommend('Gandhi')"
   ]
  },
  {
   "cell_type": "raw",
   "id": "dc9ebcff-abbc-435b-b4e3-69f423a6f4d2",
   "metadata": {},
   "source": [
    "import pickle"
   ]
  },
  {
   "cell_type": "raw",
   "id": "67f224c6-15a9-4cff-9698-0f61a2b34f17",
   "metadata": {},
   "source": [
    "pickle.dump(new,open('movie_list.pkl','wb'))\n",
    "pickle.dump(similarity,open('similarity.pkl','wb'))"
   ]
  }
 ],
 "metadata": {
  "kernelspec": {
   "display_name": "Python 3 (ipykernel)",
   "language": "python",
   "name": "python3"
  },
  "language_info": {
   "codemirror_mode": {
    "name": "ipython",
    "version": 3
   },
   "file_extension": ".py",
   "mimetype": "text/x-python",
   "name": "python",
   "nbconvert_exporter": "python",
   "pygments_lexer": "ipython3",
   "version": "3.12.2"
  }
 },
 "nbformat": 4,
 "nbformat_minor": 5
}
